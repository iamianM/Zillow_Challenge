{
 "cells": [
  {
   "cell_type": "code",
   "execution_count": 1,
   "metadata": {
    "collapsed": true
   },
   "outputs": [],
   "source": [
    "import numpy as np # linear algebra\n",
    "import pandas as pd # data processing, CSV file I/O (e.g. pd.read_csv)\n",
    "import matplotlib.pyplot as plt\n",
    "import seaborn as sns\n",
    "import math\n",
    "color = sns.color_palette()\n",
    "\n",
    "%matplotlib inline\n",
    "\n",
    "pd.options.mode.chained_assignment = None\n",
    "pd.options.display.max_columns = 999"
   ]
  },
  {
   "cell_type": "code",
   "execution_count": 12,
   "metadata": {
    "collapsed": false
   },
   "outputs": [
    {
     "name": "stderr",
     "output_type": "stream",
     "text": [
      "/home/ian/anaconda3/lib/python3.6/site-packages/IPython/core/interactiveshell.py:2717: DtypeWarning: Columns (22,32,34,49,55) have mixed types. Specify dtype option on import or set low_memory=False.\n",
      "  interactivity=interactivity, compiler=compiler, result=result)\n"
     ]
    }
   ],
   "source": [
    "train_df = pd.read_csv(\"train_2016_v2.csv\", parse_dates=[\"transactiondate\"])\n",
    "prop_df = pd.read_csv(\"properties_2016.csv\")\n",
    "train_df = pd.merge(train_df, prop_df, on='parcelid', how='left')\n",
    "original_df = train_df.copy()"
   ]
  },
  {
   "cell_type": "code",
   "execution_count": 13,
   "metadata": {
    "collapsed": false
   },
   "outputs": [],
   "source": [
    "test_df = prop_df[~prop_df['parcelid'].isin(train_df['parcelid'].tolist())]"
   ]
  },
  {
   "cell_type": "code",
   "execution_count": null,
   "metadata": {
    "collapsed": false
   },
   "outputs": [],
   "source": [
    "test_df.shape[0]+train_df.shape[0] - prop_df.shape[0]"
   ]
  },
  {
   "cell_type": "code",
   "execution_count": 147,
   "metadata": {
    "collapsed": false
   },
   "outputs": [
    {
     "data": {
      "text/plain": [
       "Y    1783\n",
       "Name: taxdelinquencyflag, dtype: int64"
      ]
     },
     "execution_count": 147,
     "metadata": {},
     "output_type": "execute_result"
    }
   ],
   "source": [
    "train_df['taxdelinquencyflag'].value_counts()      \n",
    "# train_df[train_df['yardbuildingsqft26'] > 0]['logerror'].mean()\n",
    "# train_df['logerror'].describe()\n",
    "# train_df['actypeneither'] = [True if math.isnan(x) else False for x in train_df['airconditioningtypeid']]"
   ]
  },
  {
   "cell_type": "code",
   "execution_count": 14,
   "metadata": {
    "collapsed": false
   },
   "outputs": [],
   "source": [
    "train_df['actypenan'] = [True if math.isnan(x) else False for x in train_df['airconditioningtypeid']]\n",
    "train_df['actype1'] = [True if x == 1 else False for x in train_df['airconditioningtypeid']]\n",
    "train_df = pd.concat([train_df, pd.get_dummies(train_df['fips'], drop_first=True, prefix='fips')], axis=1)\n",
    "del train_df['fips']\n",
    "train_df['fireplacecnt'].fillna(0, inplace=True)\n",
    "train_df['fullbathcnt'].fillna(0, inplace=True)\n",
    "for i, size in enumerate(train_df['garagetotalsqft']):\n",
    "    if size == 0:\n",
    "        if train_df['garagecarcnt'][i] != 0:\n",
    "            train_df['garagetotalsqft'][i] = np.nan\n",
    "train_df['hashottuborspa'].fillna(False, inplace=True)\n",
    "train_df['poolcnt'] = train_df['poolcnt'].map(lambda x: False if math.isnan(x) else True)\n",
    "train_df['pooltypeid10'] = train_df['pooltypeid10'].map(lambda x: False if math.isnan(x) else True)\n",
    "train_df['pooltypeid2'] = train_df['pooltypeid2'].map(lambda x: False if math.isnan(x) else True)\n",
    "train_df['pooltypeid7'] = train_df['pooltypeid7'].map(lambda x: False if math.isnan(x) else True)\n",
    "train_df = pd.concat([train_df, pd.get_dummies(train_df['regionidcounty'], drop_first=True, prefix='regionid')], axis=1)\n",
    "del train_df['regionidcounty']\n",
    "train_df['storytypeid'] = train_df['storytypeid'].map(lambda x: True if math.isnan(x) else False)\n",
    "train_df['decktypeid'] = [True if x == 1 else False for x in train_df['decktypeid']]\n",
    "train_df['unitcnt'].fillna(0, inplace=True)\n",
    "train_df['numberofstories'].fillna(0, inplace=True)\n",
    "train_df['fireplaceflag'] = train_df['fireplaceflag'].map(lambda x: False if math.isnan(x) else True)\n",
    "train_df['taxvaluedollarcnt'].fillna(train_df['taxvaluedollarcnt'].mean(), inplace=True)\n",
    "train_df['landtaxvaluedollarcnt'].fillna(train_df['landtaxvaluedollarcnt'].mean(), inplace=True)\n",
    "train_df['taxamount'].fillna(train_df['taxamount'].mean(), inplace=True)\n",
    "train_df['taxdelinquencyflag'] = train_df['taxdelinquencyflag'].map(lambda x: True if x == 'Y' else False)"
   ]
  },
  {
   "cell_type": "code",
   "execution_count": 15,
   "metadata": {
    "collapsed": false
   },
   "outputs": [],
   "source": [
    "def fix_test(df):\n",
    "    df['actypenan'] = [True if math.isnan(x) else False for x in df['airconditioningtypeid']]\n",
    "    df['actype1'] = [True if x == 1 else False for x in df['airconditioningtypeid']]\n",
    "    df = pd.concat([df, pd.get_dummies(df['fips'], drop_first=True, prefix='fips')], axis=1)\n",
    "    df['fireplacecnt'].fillna(0, inplace=True)\n",
    "    df['fullbathcnt'].fillna(0, inplace=True)\n",
    "    for i, size in zip(df.index, df['garagetotalsqft']):\n",
    "        if size == 0:\n",
    "            if df['garagecarcnt'][i] != 0:\n",
    "                df['garagetotalsqft'][i] = np.nan\n",
    "    df['hashottuborspa'].fillna(False, inplace=True)\n",
    "    df['poolcnt'] = df['poolcnt'].map(lambda x: False if math.isnan(x) else True)\n",
    "    df['pooltypeid10'] = df['pooltypeid10'].map(lambda x: False if math.isnan(x) else True)\n",
    "    df['pooltypeid2'] = df['pooltypeid2'].map(lambda x: False if math.isnan(x) else True)\n",
    "    df['pooltypeid7'] = df['pooltypeid7'].map(lambda x: False if math.isnan(x) else True)\n",
    "    df = pd.concat([df, pd.get_dummies(df['regionidcounty'], drop_first=True, prefix='regionid')], axis=1)\n",
    "    df['storytypeid'] = df['storytypeid'].map(lambda x: True if math.isnan(x) else False)\n",
    "    df['decktypeid'] = [True if x == 1 else False for x in df['decktypeid']]\n",
    "    df['unitcnt'].fillna(0, inplace=True)\n",
    "    df['numberofstories'].fillna(0, inplace=True)\n",
    "    df['fireplaceflag'] = df['fireplaceflag'].map(lambda x: False if math.isnan(x) else True)\n",
    "    df['taxvaluedollarcnt'].fillna(df['taxvaluedollarcnt'].mean(), inplace=True)\n",
    "    df['landtaxvaluedollarcnt'].fillna(df['landtaxvaluedollarcnt'].mean(), inplace=True)\n",
    "    df['taxamount'].fillna(df['taxamount'].mean(), inplace=True)\n",
    "    df['taxdelinquencyflag'] = df['taxdelinquencyflag'].map(lambda x: True if x == 'Y' else False)\n",
    "    \n",
    "    del df['airconditioningtypeid']\n",
    "    del df['architecturalstyletypeid']\n",
    "    del df['basementsqft']\n",
    "    del df['buildingclasstypeid']\n",
    "    del df['finishedfloor1squarefeet']\n",
    "    del df['finishedsquarefeet13']\n",
    "    del df['finishedsquarefeet15']\n",
    "    del df['finishedsquarefeet50']\n",
    "    del df['finishedsquarefeet6']\n",
    "    del df['fips']\n",
    "    del df['heatingorsystemtypeid']\n",
    "    del df['poolsizesum']\n",
    "    del df['propertycountylandusecode']\n",
    "    del df['propertyzoningdesc']\n",
    "    del df['regionidcity']\n",
    "    del df['regionidcounty']\n",
    "    del df['regionidneighborhood']\n",
    "    del df['regionidzip']\n",
    "    del df['decktypeid']\n",
    "    del df['threequarterbathnbr']\n",
    "    del df['typeconstructiontypeid']\n",
    "    del df['yardbuildingsqft17']\n",
    "    del df['yardbuildingsqft26']\n",
    "    del df['assessmentyear']\n",
    "    del df['taxdelinquencyyear']"
   ]
  },
  {
   "cell_type": "code",
   "execution_count": 16,
   "metadata": {
    "collapsed": true
   },
   "outputs": [],
   "source": [
    "del train_df['airconditioningtypeid']\n",
    "del train_df['architecturalstyletypeid']\n",
    "del train_df['basementsqft']\n",
    "del train_df['buildingclasstypeid']\n",
    "del train_df['finishedfloor1squarefeet']\n",
    "del train_df['finishedsquarefeet13']\n",
    "del train_df['finishedsquarefeet15']\n",
    "del train_df['finishedsquarefeet50']\n",
    "del train_df['finishedsquarefeet6']\n",
    "del train_df['heatingorsystemtypeid']\n",
    "del train_df['poolsizesum']\n",
    "del train_df['propertycountylandusecode']\n",
    "del train_df['propertyzoningdesc']\n",
    "del train_df['regionidcity']\n",
    "del train_df['regionidneighborhood']\n",
    "del train_df['regionidzip']\n",
    "del train_df['decktypeid']\n",
    "del train_df['threequarterbathnbr']\n",
    "del train_df['typeconstructiontypeid']\n",
    "del train_df['yardbuildingsqft17']\n",
    "del train_df['yardbuildingsqft26']\n",
    "del train_df['assessmentyear']\n",
    "del train_df['taxdelinquencyyear']"
   ]
  },
  {
   "cell_type": "code",
   "execution_count": 7,
   "metadata": {
    "collapsed": true
   },
   "outputs": [],
   "source": [
    "train_y = train_df['logerror'].values\n",
    "\n",
    "del train_df['parcelid']\n",
    "del train_df['logerror']\n",
    "del train_df['transactiondate']"
   ]
  },
  {
   "cell_type": "code",
   "execution_count": 17,
   "metadata": {
    "collapsed": false
   },
   "outputs": [],
   "source": [
    "df_201610 = train_df[(train_df['transactiondate'].dt.year == 2016) & (train_df['transactiondate'].dt.month == 10)]\n",
    "df_201611 = train_df[(train_df['transactiondate'].dt.year == 2016) & (train_df['transactiondate'].dt.month == 11)]\n",
    "df_201612 = train_df[(train_df['transactiondate'].dt.year == 2016) & (train_df['transactiondate'].dt.month == 12)]\n",
    "df_201710 = train_df[(train_df['transactiondate'].dt.year == 2017) & (train_df['transactiondate'].dt.month == 10)]\n",
    "df_201711 = train_df[(train_df['transactiondate'].dt.year == 2017) & (train_df['transactiondate'].dt.month == 11)]\n",
    "df_201712 = train_df[(train_df['transactiondate'].dt.year == 2017) & (train_df['transactiondate'].dt.month == 12)]"
   ]
  },
  {
   "cell_type": "code",
   "execution_count": 9,
   "metadata": {
    "collapsed": false
   },
   "outputs": [],
   "source": [
    "prediction_df = train_df.dropna(axis=1,how='any')"
   ]
  },
  {
   "cell_type": "code",
   "execution_count": 11,
   "metadata": {
    "collapsed": false
   },
   "outputs": [
    {
     "name": "stdout",
     "output_type": "stream",
     "text": [
      "buildingqualitytypeid\n",
      "calculatedbathnbr\n",
      "calculatedfinishedsquarefeet\n",
      "finishedsquarefeet12\n",
      "garagecarcnt\n",
      "garagetotalsqft\n",
      "lotsizesquarefeet\n",
      "yearbuilt\n",
      "structuretaxvaluedollarcnt\n",
      "censustractandblock\n"
     ]
    }
   ],
   "source": [
    "from sklearn.ensemble import RandomForestRegressor\n",
    "X = prediction_df\n",
    "predict_cols = ['buildingqualitytypeid', 'calculatedbathnbr', 'calculatedfinishedsquarefeet', 'finishedsquarefeet12', \n",
    "               'garagecarcnt', 'garagetotalsqft', 'lotsizesquarefeet', 'yearbuilt', 'structuretaxvaluedollarcnt', \n",
    "               'censustractandblock']\n",
    "for col in predict_cols:\n",
    "    print(col)\n",
    "    new_col = train_df[col].values\n",
    "    missing = np.isnan(new_col)\n",
    "\n",
    "    mod = RandomForestRegressor()\n",
    "    mod.fit(X[~missing], new_col[~missing])\n",
    "\n",
    "    mother_hs_pred = mod.predict(X[missing])\n",
    "    mother_hs_pred\n",
    "\n",
    "    new_col[missing] = mother_hs_pred\n",
    "    train_df[col] = new_col"
   ]
  },
  {
   "cell_type": "code",
   "execution_count": 154,
   "metadata": {
    "collapsed": false
   },
   "outputs": [],
   "source": [
    "train_df['buildingqualitytypeid'] = train_df['buildingqualitytypeid'].fillna(train_df['buildingqualitytypeid'].mean())\n",
    "train_df['calculatedbathnbr'] = train_df['calculatedbathnbr'].fillna(train_df['calculatedbathnbr'].mean())\n",
    "train_df['calculatedfinishedsquarefeet'] = train_df['calculatedfinishedsquarefeet'].fillna(train_df['calculatedfinishedsquarefeet'].mean())\n",
    "train_df['finishedsquarefeet12'] = train_df['finishedsquarefeet12'].fillna(train_df['finishedsquarefeet12'].mean())\n",
    "train_df['garagecarcnt'] = train_df['garagecarcnt'].fillna(train_df['garagecarcnt'].mean())\n",
    "train_df['garagetotalsqft'] = train_df['garagetotalsqft'].fillna(train_df['garagecarcnt'].mean())\n",
    "train_df['lotsizesquarefeet'] = train_df['lotsizesquarefeet'].fillna(train_df['lotsizesquarefeet'].mean())\n",
    "train_df['yearbuilt'] = train_df['yearbuilt'].fillna(train_df['lotsizesquarefeet'].mean())\n",
    "train_df['structuretaxvaluedollarcnt'] = train_df['structuretaxvaluedollarcnt'].fillna(train_df['structuretaxvaluedollarcnt'].mean())\n",
    "train_df['censustractandblock'] = train_df['censustractandblock'].fillna(train_df['censustractandblock'].mean())"
   ]
  },
  {
   "cell_type": "code",
   "execution_count": 241,
   "metadata": {
    "collapsed": false
   },
   "outputs": [
    {
     "data": {
      "text/plain": [
       "-0.078557069494976303"
      ]
     },
     "execution_count": 241,
     "metadata": {},
     "output_type": "execute_result"
    }
   ],
   "source": [
    "from sklearn.model_selection import cross_val_score\n",
    "\n",
    "clf = RandomForestRegressor(n_estimators=25)\n",
    "# clf = clf.fit(train_df, train_y)\n",
    "\n",
    "scores = cross_val_score(clf, train_df_small, train_y, scoring='neg_mean_absolute_error')\n",
    "scores.mean()"
   ]
  },
  {
   "cell_type": "code",
   "execution_count": 168,
   "metadata": {
    "collapsed": false
   },
   "outputs": [
    {
     "data": {
      "image/png": "[encoded data removed]",
      "text/plain": [
       "<matplotlib.figure.Figure at 0x7f68647257f0>"
      ]
     },
     "metadata": {},
     "output_type": "display_data"
    }
   ],
   "source": [
    "feat_names = train_df.columns.values\n",
    "\n",
    "from sklearn import ensemble\n",
    "model = ensemble.ExtraTreesRegressor(n_estimators=25, max_depth=30, max_features=0.3, n_jobs=-1, random_state=0)\n",
    "model.fit(train_df, train_y)\n",
    "\n",
    "## plot the importances ##\n",
    "importances = model.feature_importances_\n",
    "std = np.std([tree.feature_importances_ for tree in model.estimators_], axis=0)\n",
    "indices = np.argsort(importances)[::-1][:20]\n",
    "\n",
    "plt.figure(figsize=(12,12))\n",
    "plt.title(\"Feature importances\")\n",
    "plt.bar(range(len(indices)), importances[indices], color=\"r\", yerr=std[indices], align=\"center\")\n",
    "plt.xticks(range(len(indices)), feat_names[indices], rotation='vertical')\n",
    "plt.xlim([-1, len(indices)])\n",
    "plt.show()"
   ]
  },
  {
   "cell_type": "code",
   "execution_count": 242,
   "metadata": {
    "collapsed": false
   },
   "outputs": [
    {
     "data": {
      "text/plain": [
       "-0.079036634097546812"
      ]
     },
     "execution_count": 242,
     "metadata": {},
     "output_type": "execute_result"
    }
   ],
   "source": [
    "import xgboost as xgb\n",
    "xgb_params = {\n",
    "    'learning_rate': 0.1,\n",
    "    'max_depth': 8,\n",
    "    'subsample': 0.7,\n",
    "    'colsample_bytree': 0.7,\n",
    "    'objective': 'reg:linear',\n",
    "    'silent': 1,\n",
    "    'seed' : 0,\n",
    "    'n_estimators': 1000\n",
    "}\n",
    "model = xgb.XGBRegressor(**xgb_params)\n",
    "scores = cross_val_score(model, train_df_small, train_y, scoring='neg_mean_absolute_error')\n",
    "scores.mean()"
   ]
  },
  {
   "cell_type": "code",
   "execution_count": 167,
   "metadata": {
    "collapsed": false
   },
   "outputs": [
    {
     "data": {
      "image/png": "[encoded data removed]",
      "text/plain": [
       "<matplotlib.figure.Figure at 0x7f68641961d0>"
      ]
     },
     "metadata": {},
     "output_type": "display_data"
    }
   ],
   "source": [
    "dtrain = xgb.DMatrix(train_df, train_y, feature_names=train_df.columns.values)\n",
    "model = xgb.train(dict(xgb_params, silent=0), dtrain, num_boost_round=50)\n",
    "\n",
    "# plot the important features #\n",
    "fig, ax = plt.subplots(figsize=(12,18))\n",
    "xgb.plot_importance(model, height=0.8, ax=ax)\n",
    "plt.show()"
   ]
  },
  {
   "cell_type": "code",
   "execution_count": 17,
   "metadata": {
    "collapsed": false
   },
   "outputs": [
    {
     "name": "stdout",
     "output_type": "stream",
     "text": [
      "[ True False False False  True  True False  True False  True False False\n",
      " False False  True False False False False  True  True False False  True\n",
      " False False False  True  True  True  True  True  True False False  True\n",
      "  True  True  True]\n",
      "[ 1 17 18  7  1  1 11  1 16  1  2 21  5 12  1 15 14  8  6  1  1 10 13  1  9\n",
      " 20 19  1  1  1  1  1  1  4  3  1  1  1  1]\n"
     ]
    }
   ],
   "source": [
    "from sklearn.feature_selection import RFE\n",
    "from sklearn.preprocessing import StandardScaler\n",
    "scaler = StandardScaler()\n",
    "X_scaled = scaler.fit_transform(train_df)\n",
    "\n",
    "estimator = linear_model.LinearRegression(n_jobs=-1)\n",
    "\n",
    "selector = RFE(estimator)\n",
    "selector = selector.fit(X_scaled, train_y)\n",
    "print(selector.support_)\n",
    "print(selector.ranking_)"
   ]
  },
  {
   "cell_type": "code",
   "execution_count": 18,
   "metadata": {
    "collapsed": false
   },
   "outputs": [],
   "source": [
    "RFE_df = train_df.loc[:,selector.support_]"
   ]
  },
  {
   "cell_type": "code",
   "execution_count": 20,
   "metadata": {
    "collapsed": false
   },
   "outputs": [
    {
     "name": "stdout",
     "output_type": "stream",
     "text": [
      "LinearReg:  -0.068395396768\n",
      "Lasso:  -0.0685275936305\n",
      "Ridge:  -0.0683986800442\n"
     ]
    }
   ],
   "source": [
    "from sklearn import linear_model, datasets\n",
    "from sklearn.linear_model import Lasso, Ridge\n",
    "from sklearn.svm import SVR\n",
    "from sklearn.model_selection import cross_val_score\n",
    "\n",
    "linreg = linear_model.LinearRegression(n_jobs=-1)\n",
    "lasso = Lasso(alpha=.3)\n",
    "ridge = Ridge(alpha=10)\n",
    "# svr = SVR(kernel=\"linear\")\n",
    "\n",
    "# we create an instance of Neighbours Classifier and fit the data.\n",
    "# logreg.fit(train_df, train_y)\n",
    "\n",
    "from sklearn import preprocessing\n",
    "scaler = StandardScaler()\n",
    "X_scaled = scaler.fit_transform(RFE_df)\n",
    "\n",
    "lr_scores = cross_val_score(linreg, X_scaled, train_y, scoring='neg_mean_absolute_error')\n",
    "lasso_scores = cross_val_score(lasso, X_scaled, train_y, scoring='neg_mean_absolute_error')\n",
    "ridge_scores = cross_val_score(ridge, X_scaled, train_y, scoring='neg_mean_absolute_error')\n",
    "# svr_scores = cross_val_score(svr, X_scaled, train_y, scoring='neg_mean_absolute_error')\n",
    "\n",
    "print('LinearReg: ', lr_scores.mean())\n",
    "print('Lasso: ', lasso_scores.mean())\n",
    "print('Ridge: ', ridge_scores.mean())\n",
    "# print('SVR: ', svr_scores.mean())"
   ]
  },
  {
   "cell_type": "code",
   "execution_count": 183,
   "metadata": {
    "collapsed": true
   },
   "outputs": [],
   "source": [
    "train_df_small = train_df[['taxamount', 'lotsizesquarefeet', 'calculatedfinishedsquarefeet', 'latitude', 'longitude', 'yearbuilt', 'rawcensustractandblock', 'bathroomcnt', 'bedroomcnt']]"
   ]
  },
  {
   "cell_type": "code",
   "execution_count": 185,
   "metadata": {
    "collapsed": false
   },
   "outputs": [
    {
     "data": {
      "text/plain": [
       "-0.068473403717404055"
      ]
     },
     "execution_count": 185,
     "metadata": {},
     "output_type": "execute_result"
    }
   ],
   "source": [
    "linreg = linear_model.LinearRegression(n_jobs=-1)\n",
    "\n",
    "scores = cross_val_score(linreg, train_df_small, train_y, scoring='neg_mean_absolute_error')\n",
    "scores.mean()"
   ]
  },
  {
   "cell_type": "code",
   "execution_count": 53,
   "metadata": {
    "collapsed": false
   },
   "outputs": [],
   "source": [
    "train_df['logerror'] = train_y\n",
    "col = 'taxamount'\n",
    "brackets = [1000, 18000, 46000, 119000]\n",
    "bracket1_df = train_df[train_df[col] <= brackets[0]]\n",
    "bracket1_y = bracket1_df.pop('logerror')\n",
    "bracket2_df = train_df[(train_df[col] > brackets[0]) & (train_df[col] <= brackets[1])]\n",
    "bracket2_y = bracket2_df.pop('logerror')\n",
    "bracket3_df = train_df[(train_df[col] > brackets[1]) & (train_df[col] <= brackets[2])]\n",
    "bracket3_y = bracket3_df.pop('logerror')\n",
    "bracket4_df = train_df[(train_df[col] > brackets[2]) & (train_df[col] <= brackets[3])]\n",
    "bracket4_y = bracket4_df.pop('logerror')\n",
    "bracket5_df = train_df[(train_df[col] > brackets[3])]\n",
    "bracket5_y = bracket5_df.pop('logerror')\n",
    "del train_df['logerror']"
   ]
  },
  {
   "cell_type": "code",
   "execution_count": 56,
   "metadata": {
    "collapsed": false
   },
   "outputs": [
    {
     "name": "stdout",
     "output_type": "stream",
     "text": [
      "Bracket 1:  -0.11912871672\n",
      "Bracket 2:  -0.0658759498052\n",
      "Bracket 3:  -0.130018335925\n",
      "Bracket 4:  -0.178513107693\n",
      "Bracket 5:  -0.200890068019\n"
     ]
    }
   ],
   "source": [
    "linreg = linear_model.LinearRegression(n_jobs=-1)\n",
    "import xgboost as xgb\n",
    "xgb_params = {\n",
    "    'learning_rate': 0.1,\n",
    "    'max_depth': 8,\n",
    "    'subsample': 0.7,\n",
    "    'colsample_bytree': 0.7,\n",
    "    'objective': 'reg:linear',\n",
    "    'silent': 1,\n",
    "    'seed' : 0,\n",
    "    'n_estimators': 1000\n",
    "}\n",
    "model = xgb.XGBRegressor(**xgb_params)\n",
    "clf = RandomForestRegressor(n_estimators=25)\n",
    "\n",
    "scores1 = cross_val_score(clf, bracket1_df, bracket1_y, scoring='neg_mean_absolute_error')\n",
    "scores2 = cross_val_score(linreg, bracket2_df, bracket2_y, scoring='neg_mean_absolute_error')\n",
    "scores3 = cross_val_score(clf, bracket3_df, bracket3_y, scoring='neg_mean_absolute_error')\n",
    "scores4 = cross_val_score(model, bracket4_df, bracket4_y, scoring='neg_mean_absolute_error')\n",
    "scores5 = cross_val_score(model, bracket5_df, bracket5_y, scoring='neg_mean_absolute_error')\n",
    "print('Bracket 1: ', scores1.mean())\n",
    "print('Bracket 2: ', scores2.mean())\n",
    "print('Bracket 3: ', scores3.mean())\n",
    "print('Bracket 4: ', scores4.mean())\n",
    "print('Bracket 5: ', scores5.mean())"
   ]
  },
  {
   "cell_type": "code",
   "execution_count": 60,
   "metadata": {
    "collapsed": false
   },
   "outputs": [
    {
     "data": {
      "text/plain": [
       "-0.070076476872465931"
      ]
     },
     "execution_count": 60,
     "metadata": {},
     "output_type": "execute_result"
    }
   ],
   "source": [
    "(scores1.mean()*bracket1_df.shape[0] + scores2.mean()*bracket2_df.shape[0] + scores3.mean()*bracket3_df.shape[0] + scores4.mean()*bracket4_df.shape[0] + scores5.mean()*bracket5_df.shape[0])/train_df.shape[0]"
   ]
  },
  {
   "cell_type": "code",
   "execution_count": null,
   "metadata": {
    "collapsed": true
   },
   "outputs": [],
   "source": []
  }
 ],
 "metadata": {
  "kernelspec": {
   "display_name": "Python 3",
   "language": "python",
   "name": "python3"
  },
  "language_info": {
   "codemirror_mode": {
    "name": "ipython",
    "version": 3
   },
   "file_extension": ".py",
   "mimetype": "text/x-python",
   "name": "python",
   "nbconvert_exporter": "python",
   "pygments_lexer": "ipython3",
   "version": "3.6.0"
  }
 },
 "nbformat": 4,
 "nbformat_minor": 2
}
